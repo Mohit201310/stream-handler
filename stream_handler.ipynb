{
 "cells": [
  {
   "cell_type": "code",
   "execution_count": 3,
   "id": "0ef16ef7-b693-47e3-974a-83a30610de3f",
   "metadata": {},
   "outputs": [
    {
     "name": "stderr",
     "output_type": "stream",
     "text": [
      "__main__ - WARNING - this is a warning \n",
      "__main__ - ERROR - this is error \n"
     ]
    }
   ],
   "source": [
    "import logging\n",
    "\n",
    "# create a custom logger\n",
    "logger=logging.getLogger(__name__)\n",
    "\n",
    "# create handlers \n",
    "c_handler=logging.StreamHandler()\n",
    "f_handler=logging.FileHandler('abc.log')\n",
    "c_handler.setLevel(logging.WARNING)\n",
    "f_handler.setLevel(logging.ERROR)\n",
    "\n",
    "# create formatters and add ot to handler\n",
    "\n",
    "c_format = logging.Formatter('%(name)s - %(levelname)s - %(message)s ')\n",
    "f_format = logging.Formatter('%(asctime)s - %(name)s -  %(levelname)s - %(message)s')\n",
    "c_handler.setFormatter(c_format)\n",
    "f_handler.setFormatter(f_format)\n",
    "\n",
    "\n",
    "# Add handler to the logger \n",
    "\n",
    "logger.addHandler(c_handler)\n",
    "logger.addHandler(f_handler)\n",
    "\n",
    "logger.warning('this is a warning')\n",
    "logger.error('this is error')"
   ]
  },
  {
   "cell_type": "code",
   "execution_count": 4,
   "id": "37a8afee-3a11-4e9f-a822-090dd5ba952f",
   "metadata": {},
   "outputs": [
    {
     "name": "stderr",
     "output_type": "stream",
     "text": [
      "2023-07-23 08:19:07,311 - __main__ -  INFO - diving 6 by 0\n",
      "2023-07-23 08:19:07,313 - __main__ -  INFO - zero division error\n"
     ]
    },
    {
     "name": "stdout",
     "output_type": "stream",
     "text": [
      "None\n"
     ]
    }
   ],
   "source": [
    "import logging\n",
    "\n",
    "logger = logging.getLogger(__name__)\n",
    "handler=logging.StreamHandler()\\\n",
    "\n",
    "formatter = logging.Formatter('%(asctime)s - %(name)s -  %(levelname)s - %(message)s')\n",
    "\n",
    "handler.setFormatter(formatter)\n",
    "\n",
    "logger.addHandler(handler)\n",
    "logger.setLevel(logging.INFO)\n",
    "\n",
    "def divide(dividend,divisor):\n",
    "    try:\n",
    "        logger.info(f\"diving {dividend} by {divisor}\")\n",
    "        return dividend/divisor\n",
    "    except ZeroDivisionError:\n",
    "        logger.info(\"zero division error\")\n",
    "        \n",
    "\n",
    "        \n",
    "print(divide(6,0))"
   ]
  },
  {
   "cell_type": "code",
   "execution_count": null,
   "id": "d7f88eec-d108-4c45-a403-aa6b98722db9",
   "metadata": {},
   "outputs": [],
   "source": []
  }
 ],
 "metadata": {
  "kernelspec": {
   "display_name": "Python 3 (ipykernel)",
   "language": "python",
   "name": "python3"
  },
  "language_info": {
   "codemirror_mode": {
    "name": "ipython",
    "version": 3
   },
   "file_extension": ".py",
   "mimetype": "text/x-python",
   "name": "python",
   "nbconvert_exporter": "python",
   "pygments_lexer": "ipython3",
   "version": "3.10.6"
  }
 },
 "nbformat": 4,
 "nbformat_minor": 5
}
